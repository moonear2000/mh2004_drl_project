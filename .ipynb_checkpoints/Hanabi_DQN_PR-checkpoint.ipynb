{
 "cells": [
  {
   "cell_type": "code",
   "execution_count": 1,
   "id": "44af405e",
   "metadata": {},
   "outputs": [],
   "source": [
    "import argparse\n",
    "import os\n",
    "from copy import deepcopy\n",
    "from typing import Optional, Tuple\n",
    "\n",
    "import gymnasium as gym\n",
    "import numpy as np\n",
    "import torch\n",
    "from pettingzoo.classic import hanabi_v4\n",
    "from torch.utils.tensorboard import SummaryWriter\n",
    "\n",
    "from tianshou.data import Collector, PrioritizedVectorReplayBuffer\n",
    "from tianshou.env import DummyVectorEnv\n",
    "from tianshou.env.pettingzoo_env import PettingZooEnv\n",
    "from tianshou.policy import (\n",
    "    BasePolicy,\n",
    "    DQNPolicy,\n",
    "    MultiAgentPolicyManager,\n",
    "    RandomPolicy,\n",
    ")\n",
    "from tianshou.trainer import offpolicy_trainer\n",
    "from tianshou.utils import TensorboardLogger\n",
    "from tianshou.utils.net.common import Net\n",
    "import matplotlib.pyplot as plt\n",
    "from tqdm.auto import tqdm"
   ]
  },
  {
   "cell_type": "code",
   "execution_count": null,
   "id": "7b7657e9",
   "metadata": {},
   "outputs": [],
   "source": [
    "p = {\n",
    "    'hidden_layers': [256,256],\n",
    "    'gamma': 0.99,\n",
    "    'lr': 1e-4,\n",
    "    'target_update_freq': 200,\n",
    "    'estimation_steps': 1,\n",
    "    'num_train':50,\n",
    "    'num_test':50,\n",
    "    'buffer_size':50000,\n",
    "    'batch_size':32,\n",
    "    'steps_per_collect': 10000,\n",
    "    'updates_per_train': 500,\n",
    "    'test_steps': 50000\n",
    "    'epochs':1000,\n",
    "    'test_frequency':5,\n",
    "    'save_frequency':25\n",
    "}\n",
    "path = 'saved_data/training_group_3/'"
   ]
  },
  {
   "cell_type": "code",
   "execution_count": 2,
   "id": "c3e678bb",
   "metadata": {},
   "outputs": [],
   "source": [
    "def get_env(render_mode=None):\n",
    "    return PettingZooEnv(hanabi_v4.env(colors=2, ranks=5, players=2, hand_size=4, max_information_tokens=5,\n",
    "max_life_tokens=2, observation_type=1))"
   ]
  },
  {
   "cell_type": "code",
   "execution_count": 3,
   "id": "2154b6f5",
   "metadata": {},
   "outputs": [],
   "source": [
    "def get_agents(\n",
    "    lr = 1e-4, \n",
    "    hidden_layers = [256, 256], \n",
    "    gamma = 0.99,\n",
    "    target_update_freq = 200, \n",
    "    estimation_steps = 1, \n",
    "    num_train = 50, \n",
    "    num_test = 50\n",
    "):\n",
    "    \n",
    "    # Return Policy, Agents, Envs\n",
    "    env = get_env()\n",
    "    observation_space = env.observation_space['observation'] if isinstance(\n",
    "    env.observation_space, gym.spaces.Dict\n",
    "    ) else env.observation_space\n",
    "\n",
    "    state_shape = observation_space.shape or observation_space.n\n",
    "    action_shape = env.action_space.shape or env.action_space.n\n",
    "    device = 'cuda' if torch.cuda.is_available() else 'cpu'\n",
    "\n",
    "    net1 = Net(\n",
    "            state_shape,\n",
    "            action_shape,\n",
    "            hidden_sizes=hidden_layers,\n",
    "            device = device).to(device)\n",
    "\n",
    "    net2 = Net(\n",
    "        state_shape,\n",
    "        action_shape,\n",
    "        hidden_sizes=hidden_layers,\n",
    "        device = device).to(device)\n",
    "\n",
    "    optim1 = torch.optim.Adam(net1.parameters(), lr= lr)\n",
    "    optim2 = torch.optim.Adam(net2.parameters(), lr = lr)\n",
    "\n",
    "    agent1 = DQNPolicy(\n",
    "            net1,\n",
    "            optim1,\n",
    "            gamma,\n",
    "            estimation_steps,\n",
    "            target_update_freq=target_update_freq\n",
    "        )\n",
    "\n",
    "    agent2 = DQNPolicy(\n",
    "            net2,\n",
    "            optim2,\n",
    "            gamma,\n",
    "            estimation_steps,\n",
    "            target_update_freq=target_update_freq\n",
    "    )\n",
    "\n",
    "    agents = [agent1, agent1]\n",
    "    policy = MultiAgentPolicyManager(agents, env)\n",
    "    agents = env.agents\n",
    "\n",
    "    train_envs = DummyVectorEnv([get_env for _ in range(num_train)])\n",
    "    test_envs = DummyVectorEnv([get_env for _ in range(num_test)])\n",
    "    \n",
    "    return policy, agents, train_envs, test_envs"
   ]
  },
  {
   "cell_type": "code",
   "execution_count": 4,
   "id": "2cf54154",
   "metadata": {},
   "outputs": [],
   "source": [
    "def get_collectors(\n",
    "    policy,\n",
    "    train_envs,\n",
    "    test_envs,\n",
    "    buffer_size=50000\n",
    "):\n",
    "    \n",
    "    # Get collectors\n",
    "    train_collector = Collector(\n",
    "    policy,\n",
    "    train_envs,\n",
    "    PrioritizedVectorReplayBuffer(buffer_size, len(train_envs), alpha = 0.6, beta = 0.4, weight_norm = True),\n",
    "    exploration_noise=True)\n",
    "    \n",
    "    test_collector = Collector(policy, test_envs, exploration_noise=True)\n",
    "    \n",
    "    return train_collector, test_collector"
   ]
  },
  {
   "cell_type": "code",
   "execution_count": 5,
   "id": "2cba8ad3",
   "metadata": {},
   "outputs": [],
   "source": [
    "def initialize_buffer(\n",
    "    train_collector,\n",
    "    buffer_size,\n",
    "    agents,\n",
    "    policy,\n",
    "    eps = 0.1\n",
    "):\n",
    "    for a in agents:\n",
    "        policy.policies[a].set_eps(1)\n",
    "    train_collector.collect(n_step = buffer_size)\n",
    "    for a in agents:\n",
    "        policy.policies[a].set_eps(eps)"
   ]
  },
  {
   "cell_type": "code",
   "execution_count": 6,
   "id": "a725ac49",
   "metadata": {},
   "outputs": [],
   "source": [
    "def save_policy(policy, agents):\n",
    "    for a in agents:\n",
    "        torch.save(policy.policies[a].state_dict(), f'saved_data/training_group_3/{a}_params.pth')\n",
    "\n",
    "def save_history(history):\n",
    "    np.save(f'saved_data/training_group_3/training_rewards.npy', np.array(history))\n",
    "    \n",
    "def change_lr(optimizer, new_lr):\n",
    "    # Run this to change the learning rate to 1e-5:\n",
    "    for g in optimizer.param_groups:\n",
    "        g['lr'] = new_lr"
   ]
  },
  {
   "cell_type": "code",
   "execution_count": 7,
   "id": "587ec073",
   "metadata": {},
   "outputs": [],
   "source": [
    "def train(\n",
    "    policy,\n",
    "    train_collector,\n",
    "    test_collector,\n",
    "    agents,\n",
    "    epochs=1000,\n",
    "    collection_steps_per_epoch=10000,\n",
    "    updates_per_epoch=500,\n",
    "    test_frequency=5,\n",
    "    test_steps=50000,\n",
    "    save_frequency = 50,\n",
    "    batch_size = 32,\n",
    "    eps = 0.1,\n",
    "    training_history = []\n",
    "):\n",
    "    for i in tqdm(range(epochs)):\n",
    "        \n",
    "        # Collection step\n",
    "        result = train_collector.collect(n_step = collection_steps_per_epoch)\n",
    "        \n",
    "        # Test Step\n",
    "        if i%test_frequency == 0:\n",
    "            for a in agents:\n",
    "                policy.policies[a].set_eps(0)\n",
    "            result = test_collector.collect(n_step = test_steps)\n",
    "            mean_reward = result['rews'].mean()\n",
    "            tqdm.write(str(mean_reward))\n",
    "            training_history.append(mean_reward)\n",
    "            for a in agents:\n",
    "                policy.policies[a].set_eps(eps)\n",
    "    \n",
    "        if i%save_frequency == 0:\n",
    "            save_policy(policy, agents)\n",
    "            save_history(training_history)\n",
    "\n",
    "        # Update step (one epoch)\n",
    "        for _ in range(updates_per_epoch): losses = policy.update(batch_size, train_collector.buffer)\n",
    "    \n",
    "    plot_and_save(training_history, test_frequency)"
   ]
  },
  {
   "cell_type": "code",
   "execution_count": 8,
   "id": "2934cc43",
   "metadata": {},
   "outputs": [],
   "source": [
    "def plot_and_save(training_history, test_frequency, save = True):\n",
    "    x = np.arange(len(training_history))\n",
    "    x *= test_frequency\n",
    "    plt.plot(x, training_history)\n",
    "    plt.title('Combined Average Score (2 player, 2 colors, 5 ranks)')\n",
    "    plt.xlabel('Epoch')\n",
    "    plt.ylabel('Average Score (max 10)')\n",
    "    if save: plt.savefig(f'saved_data/training_group_3/training_curve.png')"
   ]
  },
  {
   "cell_type": "code",
   "execution_count": 9,
   "id": "fc431bc7",
   "metadata": {},
   "outputs": [
    {
     "name": "stderr",
     "output_type": "stream",
     "text": [
      "/home/cfs/mh2004/anaconda3/lib/python3.9/site-packages/tianshou/data/batch.py:546: UserWarning: You are using tensors with different shape, fallback to dtype=object by default.\n",
      "  warnings.warn(\n",
      "/home/cfs/mh2004/anaconda3/lib/python3.9/site-packages/tianshou/data/batch.py:546: UserWarning: You are using tensors with different shape, fallback to dtype=object by default.\n",
      "  warnings.warn(\n"
     ]
    }
   ],
   "source": [
    "policy, agents, train_envs, test_envs = get_agents(lr = p['lr'], hidden_layers = p['hidden_layers'], gamma = p['gamma'], \n",
    "    target_update_freq = p['target_update_freq'], estimation_steps = p['estimation_steps'], num_train = p['num_train'], \n",
    "    num_test = p['num_test'])\n",
    "train_collector, test_collector = get_collectors(policy, train_envs, test_envs, buffer_size = p['buffer_size'])\n",
    "initialize_buffer(train_collector, p['buffer_size'], agents, policy, eps = p['eps'])"
   ]
  },
  {
   "cell_type": "code",
   "execution_count": null,
   "id": "a79119a6",
   "metadata": {},
   "outputs": [
    {
     "data": {
      "application/vnd.jupyter.widget-view+json": {
       "model_id": "974ef46178a74fa4b5569c5929b3f631",
       "version_major": 2,
       "version_minor": 0
      },
      "text/plain": [
       "  0%|          | 0/1000 [00:00<?, ?it/s]"
      ]
     },
     "metadata": {},
     "output_type": "display_data"
    },
    {
     "name": "stdout",
     "output_type": "stream",
     "text": [
      "0.0\n"
     ]
    },
    {
     "name": "stderr",
     "output_type": "stream",
     "text": [
      "/home/cfs/mh2004/anaconda3/lib/python3.9/site-packages/tianshou/data/batch.py:546: UserWarning: You are using tensors with different shape, fallback to dtype=object by default.\n",
      "  warnings.warn(\n"
     ]
    },
    {
     "name": "stdout",
     "output_type": "stream",
     "text": [
      "1.6433915211970074\n",
      "1.6549057515708072\n",
      "2.225836431226766\n",
      "2.5367577756833177\n",
      "2.7200563644903712\n",
      "2.9105188005711566\n",
      "3.007718282682103\n",
      "2.8875\n",
      "2.928603302097278\n",
      "3.145325653522375\n",
      "3.088510638297872\n",
      "2.91169671752196\n",
      "3.0460193281178096\n",
      "3.03096274794388\n",
      "3.4030261348005504\n",
      "3.4640858208955225\n",
      "3.5244239631336405\n",
      "3.8306878306878307\n",
      "3.666076957098629\n",
      "4.049978270317253\n",
      "3.9185119574844998\n",
      "4.019715726730857\n",
      "4.066666666666666\n",
      "4.172336615935541\n",
      "4.328077091546211\n",
      "4.170105263157895\n",
      "4.40356698465367\n",
      "4.399200710479573\n",
      "4.526777875329236\n",
      "3.8417782026768643\n"
     ]
    }
   ],
   "source": [
    "train(policy, train_collector, test_collector, agents,\n",
    "    epochs=p['epochs'],\n",
    "    collection_steps_per_epoch=p['steps_per_collect'],\n",
    "    updates_per_epoch=p['updates_per_train'],\n",
    "    test_frequency=p['test_frequency'],\n",
    "    test_steps=p['test_steps'],\n",
    "    save_frequency = p['save_frequnecy'],\n",
    "    batch_size = p['batch_size'],\n",
    "    eps = p['eps'])"
   ]
  },
  {
   "cell_type": "code",
   "execution_count": null,
   "id": "3e9a892e",
   "metadata": {},
   "outputs": [],
   "source": []
  }
 ],
 "metadata": {
  "kernelspec": {
   "display_name": "Python 3 (ipykernel)",
   "language": "python",
   "name": "python3"
  },
  "language_info": {
   "codemirror_mode": {
    "name": "ipython",
    "version": 3
   },
   "file_extension": ".py",
   "mimetype": "text/x-python",
   "name": "python",
   "nbconvert_exporter": "python",
   "pygments_lexer": "ipython3",
   "version": "3.9.13"
  }
 },
 "nbformat": 4,
 "nbformat_minor": 5
}
